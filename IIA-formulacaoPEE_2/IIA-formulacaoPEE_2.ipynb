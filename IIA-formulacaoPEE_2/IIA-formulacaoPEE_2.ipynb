{
 "cells": [
  {
   "cell_type": "markdown",
   "metadata": {},
   "source": [
    "# Introdução à Inteligência Artificial - PEE / 2 - Formulação\n",
    "\n",
    "# Guião Laboratorial\n",
    "(7/Out:11/Out-2019)"
   ]
  },
  {
   "cell_type": "markdown",
   "metadata": {},
   "source": [
    "## Revisão\n",
    "\n",
    "Vamos formular mais um problema através do Paradigma do Espaço de Estados, usando o Python e a ferramanta [aima-python].\n",
    "\n",
    "Note que formular neste caso, quer dizer construir uma programa em Python."
   ]
  },
  {
   "cell_type": "markdown",
   "metadata": {},
   "source": [
    "Recordando, para formularmos um problema de acordo com esta metododologia, precisamos de:\n",
    "* **Estados**: Idealizar uma representação para o que vamos considerar um estado. Notem que o estado deve ser mínimo, apenas deve conter a informação que muda com as acções; \n",
    "* **Estado Inicial**: Identificar o estado inicial;\n",
    "* **Objectivo**: Verificar se um estado satisfaz o objectivo, sendo assim, um dos estados finais;\n",
    "* **Acções**: Para cada estado, caracterizar rigorosamente as acções de mudança de estado, de que modo incrementam os custos dos caminhos, e quais os estados resultantes."
   ]
  },
  {
   "cell_type": "markdown",
   "metadata": {},
   "source": [
    "## Recursos necessários\n",
    "\n",
    "* Para executar as experiências que se seguem, copie o módulo [searchPlus.py](searchPlus.py) para a directoria de trabalho.\n",
    "* Copie para o mesmo local os outros módulos auxiliares necessários: [utils.py](utils.py)\n",
    "* Crie um novo modulo **pee2.py** para ir realizando as experiências sugeridas ou então pode usar a versão notebook deste ficheiro."
   ]
  },
  {
   "cell_type": "code",
   "execution_count": null,
   "metadata": {},
   "outputs": [],
   "source": [
    "from searchPlus import *"
   ]
  },
  {
   "cell_type": "markdown",
   "metadata": {},
   "source": [
    "### O problema dos Jarros\n",
    "\n",
    "Recordando o enunciado:\n",
    "Imagine que tem dois jarros com capacidade para 3 e 5 litros. Pretende-se medir 4 litros de vinho, usando as seguintes operações: encher um jarro, esvaziar um jarro, ou verter vinho de um jarro para outro.\n",
    "\n",
    "![figura](water22.png)"
   ]
  },
  {
   "cell_type": "markdown",
   "metadata": {},
   "source": [
    "#### Representação dos estados\n",
    "Podemos definir um tuplo com o líquido em cada um dos jarros. É essa a informação que muda com as acções. A capacidade dos jarros deve ficar no problema, e informação estática. O tuplo que colcaremos no problema referente às capacidades dos jarros tem de respeitar a mesma ordem do estado.\n",
    "\n",
    "Na verdade, podemos avançar já para a definição da classe do Problema, fazendo notar que podemos ter mais do que 2 jarros."
   ]
  },
  {
   "cell_type": "code",
   "execution_count": null,
   "metadata": {},
   "outputs": [],
   "source": [
    "class ProblemaJarros(Problem):\n",
    "    \"\"\"Problem about pouring water between jugs to achieve some water level.\n",
    "    Each state is a tuples of water levels. In the initialization, also provide a tuple of \n",
    "    jug sizes, e.g. PourProblem(initial=(0, 0), goal=4, sizes=(5, 3)), \n",
    "    which means two jugs of sizes 5 and 3, initially both empty, with the goal\n",
    "    of getting a level of 4 in either jug.\"\"\"\n",
    "    \n",
    "    def __init__(self,initial=(0,0),goal=4,capacidades=(3,5)):\n",
    "        super().__init__(initial,goal)\n",
    "        self.capacidades = capacidades\n",
    "    \n",
    "    def actions(self, estado):\n",
    "        \"\"\"As acções executáveis neste estado.\"\"\"\n",
    "        jarros = range(len(estado))\n",
    "        return ([('Enche', i+1)    for i in jarros if estado[i] < self.capacidades[i]] +\n",
    "                [('Esvazia', i+1)    for i in jarros if estado[i]] +\n",
    "                [('Verte', i+1, j+1) for i in jarros if estado[i] for j in jarros if i != j])\n",
    "\n",
    "    def result(self, estado, accao):\n",
    "        \"\"\"O estado sofre accao e passa a ser:.\"\"\"\n",
    "        resultado = list(estado)  # converte tuplo em lista\n",
    "        a, i, *_ = accao\n",
    "        i = i-1  # O jarro i correspoinde à posição i - 1\n",
    "        if a == 'Enche':   # Enche jarro i até capacidade\n",
    "            resultado[i] = self.capacidades[i]\n",
    "        elif a == 'Esvazia': # Esvazia i\n",
    "            resultado[i] = 0\n",
    "        elif a == 'Verte': # Verte i em j\n",
    "            j = accao[2]-1  # o jarro j corresponde à posição j - 1\n",
    "            quantidade = min(estado[i], self.capacidades[j] - estado[j])\n",
    "            resultado[i] -= quantidade\n",
    "            resultado[j] += quantidade\n",
    "        return tuple(resultado)\n",
    "\n",
    "    def is_goal(self, estado):\n",
    "        \"\"\"True if the goal level is in any one of the jugs.\"\"\"\n",
    "        return self.goal in estado"
   ]
  },
  {
   "cell_type": "markdown",
   "metadata": {},
   "source": [
    "Vamos criar um problema"
   ]
  },
  {
   "cell_type": "code",
   "execution_count": null,
   "metadata": {},
   "outputs": [],
   "source": [
    "p = ProblemaJarros()"
   ]
  },
  {
   "cell_type": "markdown",
   "metadata": {},
   "source": [
    "Vamos agora criar uma instância deste problema, imprimir o estado inicial e perguntar quantos litros desejamos medir."
   ]
  },
  {
   "cell_type": "code",
   "execution_count": null,
   "metadata": {},
   "outputs": [],
   "source": [
    "prob_jarros = ProblemaJarros()\n",
    "print(\"Estado Inicial:\",prob_jarros.initial)\n",
    "print('Capacidades dos jarros:',prob_jarros.capacidades)\n",
    "print(\"O objectivo é medir \",prob_jarros.goal, \"litros\")"
   ]
  },
  {
   "cell_type": "markdown",
   "metadata": {},
   "source": [
    "Vamos verificar quais são as acções que podemos aplicar ao estado inicial"
   ]
  },
  {
   "cell_type": "code",
   "execution_count": null,
   "metadata": {},
   "outputs": [],
   "source": [
    "prob_jarros.actions(prob_jarros.initial)"
   ]
  },
  {
   "cell_type": "markdown",
   "metadata": {},
   "source": [
    "Vamos encher o jarro 2 (a primeira acção) e obter um novo estado..."
   ]
  },
  {
   "cell_type": "code",
   "execution_count": null,
   "metadata": {},
   "outputs": [],
   "source": [
    "e1 = prob_jarros.result(prob_jarros.initial,('Enche', 1))\n",
    "print(e1)"
   ]
  },
  {
   "cell_type": "code",
   "execution_count": null,
   "metadata": {},
   "outputs": [],
   "source": [
    "prob_jarros.actions(e1)"
   ]
  },
  {
   "cell_type": "markdown",
   "metadata": {},
   "source": [
    "Vamos verter o segundo jarro no primeiro..."
   ]
  },
  {
   "cell_type": "code",
   "execution_count": null,
   "metadata": {},
   "outputs": [],
   "source": [
    "e2 = prob_jarros.result(e1,('Verte',1,2))\n",
    "print(e2)"
   ]
  },
  {
   "cell_type": "raw",
   "metadata": {},
   "source": [
    "Vamos agora reencher o 1º jarro"
   ]
  },
  {
   "cell_type": "code",
   "execution_count": null,
   "metadata": {},
   "outputs": [],
   "source": [
    "e3 = prob_jarros.result(e2,('Enche',1))\n",
    "print(e3)"
   ]
  },
  {
   "cell_type": "markdown",
   "metadata": {},
   "source": [
    "Vamos testar a função ***path_cost*** que é herdada de **Problem**. Notem que essa função recebe 4 argumentos: o custo actual, o estado, a acção e o novo estado e devolve o novo custo acumulado: custo actual + o custo da transição entre estados, neste caso 1.\n",
    "Começamos com 0 no estado inicial."
   ]
  },
  {
   "cell_type": "code",
   "execution_count": null,
   "metadata": {},
   "outputs": [],
   "source": [
    "custo = 0\n",
    "e0 = prob_jarros.initial\n",
    "print(\"Comecemos:\",e0,\", com custo =\",custo)\n",
    "e1 = prob_jarros.result(e0,('Enche',2))\n",
    "custo = prob_jarros.path_cost(custo,prob_jarros.initial,('Enche',2),e1)\n",
    "print(\"Vamos encher o segundo jarro:\",e1, \", com custo =\",custo)\n",
    "e2 = prob_jarros.result(e1,('Verte',2,1))\n",
    "custo = prob_jarros.path_cost(custo,prob_jarros.initial,('Verte',2,1),e1)\n",
    "print(\"Vamos verter o jarro 2 em jarro 1:\",e2, \", com custo =\",custo)"
   ]
  },
  {
   "cell_type": "markdown",
   "metadata": {},
   "source": [
    "#### Exercício1\n",
    "Experimente resolver outras instâncias deste problema. Por exemplo:\n",
    "* Como medir 3 litros com recipientes de 7 e 5\n",
    "* Como medir 6 litros com recipientes de 7, 8 e 3\n"
   ]
  },
  {
   "cell_type": "markdown",
   "metadata": {},
   "source": [
    "#### Exercício 2\n",
    "Crie uma função ***exec()*** que pegue num estado e execute uma sequência de acções numa lista, devolvendo o estado resultante."
   ]
  },
  {
   "cell_type": "markdown",
   "metadata": {},
   "source": [
    "#### Exercício 3\n",
    "Reformule o problema dos jarros, a versão verde, de modo a que o custo das acções deixe de ser unitário. Queremos calcular a água gasta da torneira até à medição desejada - enchem-se os jarros da torneira. Assim, apenas tem custo a acção de encher e o custo corresponde à água gasta."
   ]
  },
  {
   "cell_type": "markdown",
   "metadata": {},
   "source": [
    "#### Exercício 4\n",
    "Complete a formulação esboçada a seguir do problema do puzzle de 8. \n",
    "\n",
    "![](https://ece.uwaterloo.ca/~dwharder/aads/Algorithms/N_puzzles/images/puz3.png)\n",
    "\n",
    "Estamos perante o problema clássico de um puzzle de peças deslizantes onde se pode deslocar qualquer peça ortogonalmente para a casa vazia. Partimos de uma configuração inicial (por exemplo, o puzzle da esquerda da figura) e queremos atingir a configuração objectivo (puzzle da direita).\n",
    "\n",
    "\n",
    "```python\n",
    "class PuzzleN(Problem):\n",
    "    \"\"\" O problema das N=dxd-1 peças deslizantes, num tabuleiro quadrado de dimensão dxd \n",
    "    onde um dos quadrados está vazio, tentando atingir uma configuração particular\n",
    "    Um estado é representado por um tuplo de dimensão dxd.\n",
    "    As peças são representadas pelos próprios números e a peça vazia por 0.\n",
    "    O objectivo por omissão no caso de 3x3:\n",
    "        1 2 3\n",
    "        4 5 6 ==> (1, 2, 3, 4, 5, 6, 7, 8, 0)\n",
    "        7 8 _\n",
    "    Existe um atributo d que representa a dimensão do quadrado, 3 no caso do puzzle de 8\n",
    "    \"\"\"\n",
    "    \n",
    "    \n",
    "    def __init__(self, initial, goal=(0, 1, 2, 3, 4, 5, 6, 7, 8)):\n",
    "        self.initial, self.goal = initial, goal\n",
    "        self.d = int(math.sqrt(len(initial)))\n",
    "\n",
    "    def display(self, state):\n",
    "        \"\"\" print the state please\"\"\"\n",
    "        output=\"\"\n",
    "        for i in range(self.d * self.d):\n",
    "            ch = str(state[i])\n",
    "            if ch == \"0\":\n",
    "                ch = '_'\n",
    "            output += ch + \" \"\n",
    "            i = i+1\n",
    "            if i % self.d == 0:\n",
    "                output += \"\\n\"\n",
    "        print(output)        \n",
    "```\n"
   ]
  },
  {
   "cell_type": "markdown",
   "metadata": {},
   "source": [
    "#### Exercício 5\n",
    "Formule o problema das latas (nº 22 da [folha de exercícios de formulação](1819IIA_Exercicios_PEE_formulacao.pdf) ).\n",
    "\n",
    "Temos uma colecção de N objectos de tamanhos S1, … , SN. Queremos colocar estes objectos em latas de capacidade B e queremos usar o menor número de latas possível.\n",
    "Por exemplo, suponha que temos:  \n",
    "   – B=100  \n",
    "   – 4 objectos com os tamanhos seguintes:  \n",
    "         S1=45, S2=80, S3=30 e S4=15.  \n",
    "Então é possível colocar estes 4 objectos em duas latas, colocando por exemplo os objectos 1, 3 e 4 numa das latas e o objecto 2 noutra. Uma solução alternativa consiste em empacotar os objectos 1 e 3 numa das latas e os objectos 2 e 4 noutra.  \n",
    " "
   ]
  }
 ],
 "metadata": {
  "kernelspec": {
   "display_name": "Python 3",
   "language": "python",
   "name": "python3"
  },
  "language_info": {
   "codemirror_mode": {
    "name": "ipython",
    "version": 3
   },
   "file_extension": ".py",
   "mimetype": "text/x-python",
   "name": "python",
   "nbconvert_exporter": "python",
   "pygments_lexer": "ipython3",
   "version": "3.7.1"
  }
 },
 "nbformat": 4,
 "nbformat_minor": 2
}
