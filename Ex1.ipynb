{
 "cells": [
  {
   "cell_type": "markdown",
   "metadata": {},
   "source": [
    "### Exercício 1\n",
    "Experimente resolver outras instâncias deste problema. Por exemplo:"
   ]
  },
  {
   "cell_type": "markdown",
   "metadata": {},
   "source": [
    "#### a) Como medir 3 litros com recipientes de 7 e 5"
   ]
  },
  {
   "cell_type": "code",
   "execution_count": 1,
   "metadata": {},
   "outputs": [],
   "source": [
    "from searchPlus import *"
   ]
  },
  {
   "cell_type": "code",
   "execution_count": 2,
   "metadata": {},
   "outputs": [],
   "source": [
    "class ProblemaJarros(Problem):\n",
    "    \"\"\"Problem about pouring water between jugs to achieve some water level.\n",
    "    Each state is a tuples of water levels. In the initialization, also provide a tuple of \n",
    "    jug sizes, e.g. PourProblem(initial=(0, 0), goal=3, sizes=(7, 5)), \n",
    "    which means two jugs of sizes 7 and 5, initially both empty, with the goal\n",
    "    of getting a level of 3 in either jug.\"\"\"\n",
    "    \n",
    "    def __init__(self,initial=(0,0),goal=3,capacidades=(7,5)):\n",
    "        super().__init__(initial,goal)\n",
    "        self.capacidades = capacidades\n",
    "    \n",
    "    def actions(self, estado):\n",
    "        \"\"\"As acções executáveis neste estado.\"\"\"\n",
    "        jarros = range(len(estado))\n",
    "        return ([('Enche', i+1)    for i in jarros if estado[i] < self.capacidades[i]] +\n",
    "                [('Esvazia', i+1)    for i in jarros if estado[i]] +\n",
    "                [('Verte', i+1, j+1) for i in jarros if estado[i] for j in jarros if i != j])\n",
    "\n",
    "    def result(self, estado, accao):\n",
    "        \"\"\"O estado sofre accao e passa a ser:.\"\"\"\n",
    "        resultado = list(estado)  # converte tuplo em lista\n",
    "        a, i, *_ = accao\n",
    "        i = i-1  # O jarro i correspoinde à posição i - 1\n",
    "        if a == 'Enche':   # Enche jarro i até capacidade\n",
    "            resultado[i] = self.capacidades[i]\n",
    "        elif a == 'Esvazia': # Esvazia i\n",
    "            resultado[i] = 0\n",
    "        elif a == 'Verte': # Verte i em j\n",
    "            j = accao[2]-1  # o jarro j corresponde à posição j - 1\n",
    "            quantidade = min(estado[i], self.capacidades[j] - estado[j])\n",
    "            resultado[i] -= quantidade\n",
    "            resultado[j] += quantidade\n",
    "        return tuple(resultado)\n",
    "\n",
    "    def is_goal(self, estado):\n",
    "        \"\"\"True if the goal level is in any one of the jugs.\"\"\"\n",
    "        return self.goal in estado"
   ]
  },
  {
   "cell_type": "code",
   "execution_count": 3,
   "metadata": {},
   "outputs": [],
   "source": [
    "p = ProblemaJarros()"
   ]
  },
  {
   "cell_type": "code",
   "execution_count": 4,
   "metadata": {},
   "outputs": [
    {
     "name": "stdout",
     "output_type": "stream",
     "text": [
      "Estado Inicial: (0, 0)\n",
      "Capacidades dos jarros: (7, 5)\n",
      "O objectivo é medir  3 litros\n"
     ]
    }
   ],
   "source": [
    "prob_jarros = ProblemaJarros()\n",
    "print(\"Estado Inicial:\",prob_jarros.initial)\n",
    "print('Capacidades dos jarros:',prob_jarros.capacidades)\n",
    "print(\"O objectivo é medir \",prob_jarros.goal, \"litros\")"
   ]
  },
  {
   "cell_type": "code",
   "execution_count": 5,
   "metadata": {},
   "outputs": [
    {
     "data": {
      "text/plain": [
       "[('Enche', 1), ('Enche', 2)]"
      ]
     },
     "execution_count": 5,
     "metadata": {},
     "output_type": "execute_result"
    }
   ],
   "source": [
    "prob_jarros.actions(prob_jarros.initial)"
   ]
  },
  {
   "cell_type": "code",
   "execution_count": 6,
   "metadata": {},
   "outputs": [
    {
     "name": "stdout",
     "output_type": "stream",
     "text": [
      "(7, 0)\n"
     ]
    }
   ],
   "source": [
    "e1 = prob_jarros.result(prob_jarros.initial,('Enche', 1))\n",
    "print(e1)"
   ]
  },
  {
   "cell_type": "code",
   "execution_count": 7,
   "metadata": {},
   "outputs": [
    {
     "data": {
      "text/plain": [
       "[('Enche', 2), ('Esvazia', 1), ('Verte', 1, 2)]"
      ]
     },
     "execution_count": 7,
     "metadata": {},
     "output_type": "execute_result"
    }
   ],
   "source": [
    "prob_jarros.actions(e1)"
   ]
  },
  {
   "cell_type": "code",
   "execution_count": 8,
   "metadata": {},
   "outputs": [
    {
     "name": "stdout",
     "output_type": "stream",
     "text": [
      "(2, 5)\n"
     ]
    }
   ],
   "source": [
    "e2 = prob_jarros.result(e1,('Verte',1,2))\n",
    "print(e2)"
   ]
  },
  {
   "cell_type": "code",
   "execution_count": 9,
   "metadata": {},
   "outputs": [
    {
     "name": "stdout",
     "output_type": "stream",
     "text": [
      "(7, 5)\n"
     ]
    }
   ],
   "source": [
    "e3 = prob_jarros.result(e2,('Enche',1))\n",
    "print(e3)"
   ]
  },
  {
   "cell_type": "code",
   "execution_count": 10,
   "metadata": {},
   "outputs": [
    {
     "name": "stdout",
     "output_type": "stream",
     "text": [
      "Comecemos: (0, 0) , com custo = 0\n",
      "Vamos encher o segundo jarro: (0, 5) , com custo = 1\n",
      "Vamos verter o jarro 2 em jarro 1: (5, 0) , com custo = 2\n"
     ]
    }
   ],
   "source": [
    "custo = 0\n",
    "e0 = prob_jarros.initial\n",
    "print(\"Comecemos:\",e0,\", com custo =\",custo)\n",
    "e1 = prob_jarros.result(e0,('Enche',2))\n",
    "custo = prob_jarros.path_cost(custo,prob_jarros.initial,('Enche',2),e1)\n",
    "print(\"Vamos encher o segundo jarro:\",e1, \", com custo =\",custo)\n",
    "e2 = prob_jarros.result(e1,('Verte',2,1))\n",
    "custo = prob_jarros.path_cost(custo,prob_jarros.initial,('Verte',2,1),e1)\n",
    "print(\"Vamos verter o jarro 2 em jarro 1:\",e2, \", com custo =\",custo)"
   ]
  },
  {
   "cell_type": "markdown",
   "metadata": {},
   "source": [
    "\n",
    "#### b) Como medir 6 litros com recipientes de 7, 8 e 3"
   ]
  },
  {
   "cell_type": "code",
   "execution_count": 11,
   "metadata": {},
   "outputs": [],
   "source": [
    "\"\"\"Exercicio 1 b)\"\"\"\n",
    "\n",
    "from searchPlus import *\n",
    "\n",
    "class Problema3Jarros(Problem):\n",
    "    \"\"\"Problem about pouring water between jugs to achieve some water level.\n",
    "    Each state is a tuples of water levels. In the initialization, also provide a tuple of\n",
    "    jug sizes, e.g. PourProblem(initial=(0, 0, 0), goal=6, sizes=(7, 8, 3)),\n",
    "    which means three jugs of sizes 7, and 3, initially all empty, with the goal\n",
    "    of getting a level of 6 in one of the jugs.\"\"\"\n",
    "\n",
    "    def __init__(self,initial=(0,0,0),goal=6,capacidades=(7,8,3)):\n",
    "        super().__init__(initial,goal)\n",
    "        self.capacidades = capacidades\n",
    "\n",
    "    def actions(self, estado):\n",
    "        \"\"\"As acções executáveis neste estado.\"\"\"\n",
    "        jarros = range(len(estado))\n",
    "        return ([('Enche', i+1)    for i in jarros if estado[i] < self.capacidades[i]] +\n",
    "                [('Esvazia', i+1)    for i in jarros if estado[i]] +\n",
    "                [('Verte', i+1, j+1) for i in jarros if estado[i] for j in jarros if i != j])\n",
    "\n",
    "    def result(self, estado, accao):\n",
    "        \"\"\"O estado sofre accao e passa a ser:.\"\"\"\n",
    "        resultado = list(estado)  # converte tuplo em lista\n",
    "        a, i, *_ = accao\n",
    "        i = i-1  # O jarro i correspoinde à posição i - 1\n",
    "        if a == 'Enche':   # Enche jarro i até capacidade\n",
    "            resultado[i] = self.capacidades[i]\n",
    "        elif a == 'Esvazia': # Esvazia i\n",
    "            resultado[i] = 0\n",
    "        elif a == 'Verte': # Verte i em j\n",
    "            j = accao[2]-1  # o jarro j corresponde à posição j - 1\n",
    "            quantidade = min(estado[i], self.capacidades[j] - estado[j])\n",
    "            resultado[i] -= quantidade\n",
    "            resultado[j] += quantidade\n",
    "        return tuple(resultado)\n",
    "\n",
    "    def is_goal(self, estado):\n",
    "        \"\"\"True if the goal level is in any one of the jugs.\"\"\"\n",
    "        return self.goal in estado"
   ]
  },
  {
   "cell_type": "code",
   "execution_count": 12,
   "metadata": {},
   "outputs": [
    {
     "name": "stdout",
     "output_type": "stream",
     "text": [
      "Estado Inicial: (0, 0, 0)\n",
      "Capacidades dos jarros: (7, 8, 3)\n",
      "O objectivo é medir  6 litros\n",
      "(7, 0, 0)\n",
      "(0, 7, 0)\n",
      "(7, 7, 0)\n",
      "Comecemos: (0, 0, 0) , com custo = 0\n",
      "Vamos encher o segundo jarro: (0, 8, 0) , com custo = 1\n",
      "Vamos verter o jarro 2 em jarro 1: (7, 1, 0) , com custo = 2\n"
     ]
    }
   ],
   "source": [
    "prob_3jarros = Problema3Jarros()\n",
    "print(\"Estado Inicial:\",prob_3jarros.initial)\n",
    "print('Capacidades dos jarros:',prob_3jarros.capacidades)\n",
    "print(\"O objectivo é medir \",prob_3jarros.goal, \"litros\")\n",
    "\n",
    "prob_3jarros.actions(prob_3jarros.initial)\n",
    "\n",
    "e1 = prob_3jarros.result(prob_3jarros.initial,('Enche', 1))\n",
    "print(e1)\n",
    "\n",
    "prob_3jarros.actions(e1)\n",
    "\n",
    "e2 = prob_3jarros.result(e1,('Verte',1,2))\n",
    "print(e2)\n",
    "\n",
    "e3 = prob_3jarros.result(e2,('Enche',1))\n",
    "print(e3)\n",
    "\n",
    "custo = 0\n",
    "e0 = prob_3jarros.initial\n",
    "print(\"Comecemos:\",e0,\", com custo =\",custo)\n",
    "e1 = prob_3jarros.result(e0,('Enche',2))\n",
    "custo = prob_3jarros.path_cost(custo,prob_3jarros.initial,('Enche',2),e1)\n",
    "print(\"Vamos encher o segundo jarro:\",e1, \", com custo =\",custo)\n",
    "e2 = prob_3jarros.result(e1,('Verte',2,1))\n",
    "custo = prob_3jarros.path_cost(custo,prob_3jarros.initial,('Verte',2,1),e1)\n",
    "print(\"Vamos verter o jarro 2 em jarro 1:\",e2, \", com custo =\",custo)"
   ]
  }
 ],
 "metadata": {
  "kernelspec": {
   "display_name": "Python 3",
   "language": "python",
   "name": "python3"
  },
  "language_info": {
   "codemirror_mode": {
    "name": "ipython",
    "version": 3
   },
   "file_extension": ".py",
   "mimetype": "text/x-python",
   "name": "python",
   "nbconvert_exporter": "python",
   "pygments_lexer": "ipython3",
   "version": "3.7.1"
  }
 },
 "nbformat": 4,
 "nbformat_minor": 2
}
